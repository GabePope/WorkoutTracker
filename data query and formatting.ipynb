{
 "cells": [
  {
   "cell_type": "markdown",
   "metadata": {},
   "source": [
    "# Goal is to display all workouts\n",
    "#### * Query database\n",
    "#### * Transform models into viewmodels\n",
    "#### * Display data to user"
   ]
  },
  {
   "cell_type": "code",
   "execution_count": 30,
   "metadata": {},
   "outputs": [],
   "source": [
    "import sqlite3\n",
    "import json"
   ]
  },
  {
   "cell_type": "code",
   "execution_count": 13,
   "metadata": {},
   "outputs": [],
   "source": [
    "DATABASE = 'workout.db'"
   ]
  },
  {
   "cell_type": "markdown",
   "metadata": {},
   "source": [
    "### Define function to query database"
   ]
  },
  {
   "cell_type": "code",
   "execution_count": 14,
   "metadata": {},
   "outputs": [],
   "source": [
    "def query_db(query, args=(), one=False):\n",
    "    conn = sqlite3.connect(DATABASE)\n",
    "    conn.row_factory = sqlite3.Row\n",
    "    cur = conn.execute(query, args)\n",
    "    rv = cur.fetchall()\n",
    "    conn.commit()\n",
    "    cur.close()\n",
    "    return (rv[0] if rv else None) if one else rv"
   ]
  },
  {
   "cell_type": "markdown",
   "metadata": {},
   "source": [
    "### Query all workouts & topsets completed by Gabe(PersonId=1)"
   ]
  },
  {
   "cell_type": "code",
   "execution_count": 22,
   "metadata": {},
   "outputs": [
    {
     "name": "stdout",
     "output_type": "stream",
     "text": [
      "WorkoutId: 1, Person:Gabe, StartDate: 2022-06-29 00:00:00.000, Exercise: Bench, Repetitions: 11, Weight: 40kg\n",
      "WorkoutId: 2, Person:Gabe, StartDate: 2022-07-07 00:00:00.000, Exercise: Squat, Repetitions: 5, Weight: 65kg\n",
      "WorkoutId: 2, Person:Gabe, StartDate: 2022-07-07 00:00:00.000, Exercise: Hotep, Repetitions: 6, Weight: 30kg\n",
      "WorkoutId: 3, Person:Gabe, StartDate: 2022-07-12 00:00:00.000, Exercise: Bench, Repetitions: 4, Weight: 60kg\n",
      "WorkoutId: 3, Person:Gabe, StartDate: 2022-07-12 00:00:00.000, Exercise: Deadlift, Repetitions: 9, Weight: 100kg\n"
     ]
    }
   ],
   "source": [
    "topsets = query_db(\"\"\"\n",
    "    SELECT P.Name AS PersonName, W.WorkoutId, W.StartDate, E.Name AS ExerciseName, T.Repetitions, T.Weight\n",
    "    FROM Person P\n",
    "         LEFT JOIN Workout W ON P.PersonId=W.PersonId\n",
    "         LEFT JOIN TopSet T ON W.WorkoutId=T.WorkoutId\n",
    "         LEFT JOIN Excercise E ON T.ExcerciseId=E.ExcerciseId\n",
    "    WHERE P.PersonId=?\"\"\", [1])\n",
    "\n",
    "for topset in topsets:\n",
    "    print(f'WorkoutId: {topset[\"WorkoutId\"]}, Person:{topset[\"PersonName\"]}, StartDate: {topset[\"StartDate\"]}, Exercise: {topset[\"ExerciseName\"]}, Repetitions: {topset[\"Repetitions\"]}, Weight: {topset[\"Weight\"]}kg')"
   ]
  },
  {
   "cell_type": "markdown",
   "metadata": {},
   "source": [
    "### Transform entity to view model with the following schema\n",
    "<pre>\n",
    "{  \n",
    "    \"name\": \"Gabe\",  \n",
    "    \"workouts\": [  \n",
    "        {  \n",
    "            \"StartDate\": \"2022-06-29 00:00:00.000\",  \n",
    "            \"TopSets\": [  \n",
    "                {  \n",
    "                        \"ExerciseName\": \"Squat\",  \n",
    "                        \"Weight\": 80,  \n",
    "                        \"Repetitions\": 8  \n",
    "                    },  \n",
    "                    {  \n",
    "                        \"ExerciseName\": \"Bench\",  \n",
    "                        \"Weight\": 60,  \n",
    "                        \"Repetitions\": 4  \n",
    "                    }  \n",
    "                ]  \n",
    "        },  \n",
    "        {  \n",
    "            \"StartDate\": \"2022-07-01 00:00:00.000\",  \n",
    "            \"TopSets\": [  \n",
    "                {  \n",
    "                    \"ExerciseName\": \"Squat\",  \n",
    "                    \"Weight\": 85,  \n",
    "                    \"Repetitions\": 4  \n",
    "                },  \n",
    "                {  \n",
    "                    \"ExerciseName\": \"Bench\",  \n",
    "                    \"Weight\": 65,  \n",
    "                    \"Repetitions\": 5  \n",
    "                }  \n",
    "            ]  \n",
    "        }  \n",
    "    ]  \n",
    "} \n",
    "</pre>"
   ]
  },
  {
   "cell_type": "markdown",
   "metadata": {},
   "source": [
    "#### 1. Extract name from rows"
   ]
  },
  {
   "cell_type": "code",
   "execution_count": 37,
   "metadata": {},
   "outputs": [
    {
     "data": {
      "text/plain": [
       "'Gabe'"
      ]
     },
     "execution_count": 37,
     "metadata": {},
     "output_type": "execute_result"
    }
   ],
   "source": [
    "def get_name(topsets):\n",
    "    return topsets[0]['PersonName']\n",
    "\n",
    "get_name(topsets)"
   ]
  },
  {
   "cell_type": "markdown",
   "metadata": {},
   "source": [
    "#### 2. Group rows into workouts using WorkoutId column"
   ]
  },
  {
   "cell_type": "code",
   "execution_count": 43,
   "metadata": {},
   "outputs": [],
   "source": [
    "def get_workouts(topsets):\n",
    "    # Get all unique workout_ids (No duplicates)\n",
    "    workout_ids = set([t['WorkoutId'] for t in topsets])\n",
    "\n",
    "    # Group topsets into workouts\n",
    "    workouts = []\n",
    "    for workout_id in workout_ids:\n",
    "        topsets_in_workout = [t for t in topsets if t['WorkoutId'] == workout_id]\n",
    "        workouts.append({\n",
    "            'WorkoutId': workout_id,\n",
    "            'StartDate': topsets_in_workout[0]['StartDate'],\n",
    "            'Exercises': [{\"ExerciseName\": t['ExerciseName'], \"Weight\": t['Weight'], \"Repetitions\": t['Repetitions'] } for t in topsets_in_workout]\n",
    "        })\n",
    "    return workouts"
   ]
  },
  {
   "cell_type": "code",
   "execution_count": 46,
   "metadata": {},
   "outputs": [
    {
     "name": "stdout",
     "output_type": "stream",
     "text": [
      "[\n",
      "  {\n",
      "    \"WorkoutId\": 1,\n",
      "    \"StartDate\": \"2022-06-29 00:00:00.000\",\n",
      "    \"Exercises\": [\n",
      "      {\n",
      "        \"ExerciseName\": \"Bench\",\n",
      "        \"Weight\": 40,\n",
      "        \"Repetitions\": 11\n",
      "      }\n",
      "    ]\n",
      "  },\n",
      "  {\n",
      "    \"WorkoutId\": 2,\n",
      "    \"StartDate\": \"2022-07-07 00:00:00.000\",\n",
      "    \"Exercises\": [\n",
      "      {\n",
      "        \"ExerciseName\": \"Squat\",\n",
      "        \"Weight\": 65,\n",
      "        \"Repetitions\": 5\n",
      "      },\n",
      "      {\n",
      "        \"ExerciseName\": \"Hotep\",\n",
      "        \"Weight\": 30,\n",
      "        \"Repetitions\": 6\n",
      "      }\n",
      "    ]\n",
      "  },\n",
      "  {\n",
      "    \"WorkoutId\": 3,\n",
      "    \"StartDate\": \"2022-07-12 00:00:00.000\",\n",
      "    \"Exercises\": [\n",
      "      {\n",
      "        \"ExerciseName\": \"Bench\",\n",
      "        \"Weight\": 60,\n",
      "        \"Repetitions\": 4\n",
      "      },\n",
      "      {\n",
      "        \"ExerciseName\": \"Deadlift\",\n",
      "        \"Weight\": 100,\n",
      "        \"Repetitions\": 9\n",
      "      }\n",
      "    ]\n",
      "  }\n",
      "]\n"
     ]
    }
   ],
   "source": [
    "print(json.dumps(get_workouts(topsets), indent=2))"
   ]
  },
  {
   "cell_type": "markdown",
   "metadata": {},
   "source": [
    "### 3. Compose functions together to acheive final model"
   ]
  },
  {
   "cell_type": "code",
   "execution_count": 47,
   "metadata": {},
   "outputs": [],
   "source": [
    "def convert_to_view_model(topsets):\n",
    "    return {\n",
    "        'PersonName': get_name(topsets),\n",
    "        'Workouts': get_workouts(topsets)\n",
    "    }"
   ]
  },
  {
   "cell_type": "code",
   "execution_count": 48,
   "metadata": {},
   "outputs": [
    {
     "name": "stdout",
     "output_type": "stream",
     "text": [
      "{\n",
      "  \"PersonName\": \"Gabe\",\n",
      "  \"Workouts\": [\n",
      "    {\n",
      "      \"WorkoutId\": 1,\n",
      "      \"StartDate\": \"2022-06-29 00:00:00.000\",\n",
      "      \"Exercises\": [\n",
      "        {\n",
      "          \"ExerciseName\": \"Bench\",\n",
      "          \"Weight\": 40,\n",
      "          \"Repetitions\": 11\n",
      "        }\n",
      "      ]\n",
      "    },\n",
      "    {\n",
      "      \"WorkoutId\": 2,\n",
      "      \"StartDate\": \"2022-07-07 00:00:00.000\",\n",
      "      \"Exercises\": [\n",
      "        {\n",
      "          \"ExerciseName\": \"Squat\",\n",
      "          \"Weight\": 65,\n",
      "          \"Repetitions\": 5\n",
      "        },\n",
      "        {\n",
      "          \"ExerciseName\": \"Hotep\",\n",
      "          \"Weight\": 30,\n",
      "          \"Repetitions\": 6\n",
      "        }\n",
      "      ]\n",
      "    },\n",
      "    {\n",
      "      \"WorkoutId\": 3,\n",
      "      \"StartDate\": \"2022-07-12 00:00:00.000\",\n",
      "      \"Exercises\": [\n",
      "        {\n",
      "          \"ExerciseName\": \"Bench\",\n",
      "          \"Weight\": 60,\n",
      "          \"Repetitions\": 4\n",
      "        },\n",
      "        {\n",
      "          \"ExerciseName\": \"Deadlift\",\n",
      "          \"Weight\": 100,\n",
      "          \"Repetitions\": 9\n",
      "        }\n",
      "      ]\n",
      "    }\n",
      "  ]\n",
      "}\n"
     ]
    }
   ],
   "source": [
    "print(json.dumps(convert_to_view_model(topsets), indent=2))"
   ]
  }
 ],
 "metadata": {
  "kernelspec": {
   "display_name": "Python 3.9.6 64-bit",
   "language": "python",
   "name": "python3"
  },
  "language_info": {
   "codemirror_mode": {
    "name": "ipython",
    "version": 3
   },
   "file_extension": ".py",
   "mimetype": "text/x-python",
   "name": "python",
   "nbconvert_exporter": "python",
   "pygments_lexer": "ipython3",
   "version": "3.9.6"
  },
  "orig_nbformat": 4,
  "vscode": {
   "interpreter": {
    "hash": "63076e477759601ac1c90dd52b6ecb6aedfcfea91f89ed7c8d6b0b077f7912d7"
   }
  }
 },
 "nbformat": 4,
 "nbformat_minor": 2
}
