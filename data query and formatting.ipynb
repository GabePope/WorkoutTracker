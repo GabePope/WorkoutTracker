{
 "cells": [
  {
   "cell_type": "markdown",
   "metadata": {},
   "source": [
    "# Goal is to display all workouts\n",
    "#### * Query database\n",
    "#### * Transform models into viewmodels\n",
    "#### * Display data to user"
   ]
  },
  {
   "cell_type": "code",
   "execution_count": 30,
   "metadata": {},
   "outputs": [],
   "source": [
    "import sqlite3\n",
    "import json"
   ]
  },
  {
   "cell_type": "code",
   "execution_count": 13,
   "metadata": {},
   "outputs": [],
   "source": [
    "DATABASE = 'workout.db'"
   ]
  },
  {
   "cell_type": "markdown",
   "metadata": {},
   "source": [
    "### Define function to query database"
   ]
  },
  {
   "cell_type": "code",
   "execution_count": 14,
   "metadata": {},
   "outputs": [],
   "source": [
    "def query_db(query, args=(), one=False):\n",
    "    conn = sqlite3.connect(DATABASE)\n",
    "    conn.row_factory = sqlite3.Row\n",
    "    cur = conn.execute(query, args)\n",
    "    rv = cur.fetchall()\n",
    "    conn.commit()\n",
    "    cur.close()\n",
    "    return (rv[0] if rv else None) if one else rv"
   ]
  },
  {
   "cell_type": "markdown",
   "metadata": {},
   "source": [
    "### Query all workouts & topsets completed by Gabe(PersonId=1)"
   ]
  },
  {
   "cell_type": "code",
   "execution_count": 83,
   "metadata": {},
   "outputs": [
    {
     "name": "stdout",
     "output_type": "stream",
     "text": [
      "WorkoutId: 1, PersonId: 1 Person:Gabe, StartDate: 2022-06-29 00:00:00.000, TopSetId: 1, ExcerciseId: 2, Exercise: Bench, Repetitions: 11, Weight: 40kg\n",
      "WorkoutId: 2, PersonId: 1 Person:Gabe, StartDate: 2022-07-07 00:00:00.000, TopSetId: 2, ExcerciseId: 1, Exercise: Squat, Repetitions: 5, Weight: 65kg\n",
      "WorkoutId: 2, PersonId: 1 Person:Gabe, StartDate: 2022-07-07 00:00:00.000, TopSetId: 3, ExcerciseId: 4, Exercise: Hotep, Repetitions: 6, Weight: 30kg\n",
      "WorkoutId: 3, PersonId: 1 Person:Gabe, StartDate: 2022-07-12 00:00:00.000, TopSetId: 4, ExcerciseId: 2, Exercise: Bench, Repetitions: 4, Weight: 60kg\n",
      "WorkoutId: 3, PersonId: 1 Person:Gabe, StartDate: 2022-07-12 00:00:00.000, TopSetId: 5, ExcerciseId: 3, Exercise: Deadlift, Repetitions: 9, Weight: 100kg\n"
     ]
    }
   ],
   "source": [
    "topsets = query_db(\"\"\"\n",
    "    SELECT \n",
    "        P.PersonId, \n",
    "        P.Name AS PersonName, \n",
    "        W.WorkoutId, \n",
    "        W.StartDate, \n",
    "        T.TopSetId, \n",
    "        E.ExcerciseId, \n",
    "        E.Name AS ExerciseName, \n",
    "        T.Repetitions, \n",
    "        T.Weight\n",
    "    FROM Person P\n",
    "         LEFT JOIN Workout W ON P.PersonId=W.PersonId\n",
    "         LEFT JOIN TopSet T ON W.WorkoutId=T.WorkoutId\n",
    "         LEFT JOIN Excercise E ON T.ExcerciseId=E.ExcerciseId\n",
    "    WHERE P.PersonId=?\"\"\", [1])\n",
    "\n",
    "for topset in topsets:\n",
    "    print(f'WorkoutId: {topset[\"WorkoutId\"]}, PersonId: {topset[\"PersonId\"]} Person:{topset[\"PersonName\"]}, StartDate: {topset[\"StartDate\"]}, TopSetId: {topset[\"TopSetId\"]}, ExcerciseId: {topset[\"ExcerciseId\"]}, Exercise: {topset[\"ExerciseName\"]}, Repetitions: {topset[\"Repetitions\"]}, Weight: {topset[\"Weight\"]}kg')"
   ]
  },
  {
   "cell_type": "markdown",
   "metadata": {},
   "source": [
    "### Transform entity to view model with the following schema\n",
    "<pre>\n",
    "{   \"PersonId\": 1,\n",
    "    \"PersonName\": \"Gabe\",  \n",
    "    \"Exercises\": [{\"ExerciseIs\": 1, \"ExerciseName\": \"Squat\"}, {\"ExerciseIs\": 2, \"ExerciseName\": \"Bench\"}]  \n",
    "    \"Workouts\": [  \n",
    "        {  \n",
    "            \"TopSetId\": 1,\n",
    "            \"StartDate\": \"2022-06-29 00:00:00.000\",  \n",
    "            \"TopSets\": [  \n",
    "                {  \n",
    "                    \"ExerciseId\": 1,\n",
    "                    \"ExerciseName\": \"Squat\",  \n",
    "                    \"Weight\": 80,  \n",
    "                    \"Repetitions\": 8  \n",
    "                },  \n",
    "                {  \n",
    "                    \"ExerciseId\": 2,\n",
    "                    \"ExerciseName\": \"Bench\",  \n",
    "                    \"Weight\": 60,  \n",
    "                    \"Repetitions\": 4  \n",
    "                }  \n",
    "            ]  \n",
    "        },  \n",
    "        {\n",
    "            \"TopSetId\": 2,\n",
    "            \"StartDate\": \"2022-07-01 00:00:00.000\",  \n",
    "            \"TopSets\": [  \n",
    "                {  \n",
    "                    \"ExerciseId\": 1,\n",
    "                    \"ExerciseName\": \"Squat\",  \n",
    "                    \"Weight\": 85,  \n",
    "                    \"Repetitions\": 4  \n",
    "                },  \n",
    "                {  \n",
    "                    \"ExerciseId\": 2,\n",
    "                    \"ExerciseName\": \"Bench\",  \n",
    "                    \"Weight\": 65,  \n",
    "                    \"Repetitions\": 5  \n",
    "                }  \n",
    "            ]  \n",
    "        }  \n",
    "    ]  \n",
    "} \n",
    "</pre>"
   ]
  },
  {
   "cell_type": "markdown",
   "metadata": {},
   "source": [
    "#### 1. Extract name from rows"
   ]
  },
  {
   "cell_type": "code",
   "execution_count": 37,
   "metadata": {},
   "outputs": [
    {
     "data": {
      "text/plain": [
       "'Gabe'"
      ]
     },
     "execution_count": 37,
     "metadata": {},
     "output_type": "execute_result"
    }
   ],
   "source": [
    "def get_name(topsets):\n",
    "    return topsets[0]['PersonName']\n",
    "\n",
    "get_name(topsets)"
   ]
  },
  {
   "cell_type": "markdown",
   "metadata": {},
   "source": [
    "#### 2. Group rows into workouts using WorkoutId column"
   ]
  },
  {
   "cell_type": "code",
   "execution_count": 76,
   "metadata": {},
   "outputs": [],
   "source": [
    "def get_workouts(topsets):\n",
    "    # Get all unique workout_ids (No duplicates)\n",
    "    workout_ids = set([t['WorkoutId'] for t in topsets])\n",
    "\n",
    "    # Group topsets into workouts\n",
    "    workouts = []\n",
    "    for workout_id in workout_ids:\n",
    "        topsets_in_workout = [t for t in topsets if t['WorkoutId'] == workout_id]\n",
    "        workouts.append({\n",
    "            'WorkoutId': workout_id,\n",
    "            'StartDate': topsets_in_workout[0]['StartDate'],\n",
    "            'TopSets': [{\"TopSetId\": t['TopSetId'], \"ExcerciseId\": t['ExcerciseId'], \"ExerciseName\": t['ExerciseName'], \"Weight\": t['Weight'], \"Repetitions\": t['Repetitions'] } for t in topsets_in_workout]\n",
    "        })\n",
    "    return workouts"
   ]
  },
  {
   "cell_type": "code",
   "execution_count": 77,
   "metadata": {},
   "outputs": [
    {
     "name": "stdout",
     "output_type": "stream",
     "text": [
      "[\n",
      "  {\n",
      "    \"WorkoutId\": 1,\n",
      "    \"StartDate\": \"2022-06-29 00:00:00.000\",\n",
      "    \"TopSets\": [\n",
      "      {\n",
      "        \"TopSetId\": 1,\n",
      "        \"ExcerciseId\": 2,\n",
      "        \"ExerciseName\": \"Bench\",\n",
      "        \"Weight\": 40,\n",
      "        \"Repetitions\": 11\n",
      "      }\n",
      "    ]\n",
      "  },\n",
      "  {\n",
      "    \"WorkoutId\": 2,\n",
      "    \"StartDate\": \"2022-07-07 00:00:00.000\",\n",
      "    \"TopSets\": [\n",
      "      {\n",
      "        \"TopSetId\": 2,\n",
      "        \"ExcerciseId\": 1,\n",
      "        \"ExerciseName\": \"Squat\",\n",
      "        \"Weight\": 65,\n",
      "        \"Repetitions\": 5\n",
      "      },\n",
      "      {\n",
      "        \"TopSetId\": 3,\n",
      "        \"ExcerciseId\": 4,\n",
      "        \"ExerciseName\": \"Hotep\",\n",
      "        \"Weight\": 30,\n",
      "        \"Repetitions\": 6\n",
      "      }\n",
      "    ]\n",
      "  },\n",
      "  {\n",
      "    \"WorkoutId\": 3,\n",
      "    \"StartDate\": \"2022-07-12 00:00:00.000\",\n",
      "    \"TopSets\": [\n",
      "      {\n",
      "        \"TopSetId\": 4,\n",
      "        \"ExcerciseId\": 2,\n",
      "        \"ExerciseName\": \"Bench\",\n",
      "        \"Weight\": 60,\n",
      "        \"Repetitions\": 4\n",
      "      },\n",
      "      {\n",
      "        \"TopSetId\": 5,\n",
      "        \"ExcerciseId\": 3,\n",
      "        \"ExerciseName\": \"Deadlift\",\n",
      "        \"Weight\": 100,\n",
      "        \"Repetitions\": 9\n",
      "      }\n",
      "    ]\n",
      "  }\n",
      "]\n"
     ]
    }
   ],
   "source": [
    "print(json.dumps(get_workouts(topsets), indent=2))"
   ]
  },
  {
   "cell_type": "code",
   "execution_count": 73,
   "metadata": {},
   "outputs": [
    {
     "data": {
      "text/plain": [
       "[{'ExcerciseId': 1, 'ExerciseName': 'Squat'},\n",
       " {'ExcerciseId': 2, 'ExerciseName': 'Bench'},\n",
       " {'ExcerciseId': 3, 'ExerciseName': 'Deadlift'},\n",
       " {'ExcerciseId': 4, 'ExerciseName': 'Hotep'}]"
      ]
     },
     "execution_count": 73,
     "metadata": {},
     "output_type": "execute_result"
    }
   ],
   "source": [
    "def get_all_exercises_from_topsets(topsets):\n",
    "    exercise_ids = set([t['ExcerciseId'] for t in topsets])\n",
    "    exercises = []\n",
    "    for exercise_id in exercise_ids:\n",
    "        exercises.append({\n",
    "            'ExcerciseId': exercise_id,\n",
    "            'ExerciseName': next((t['ExerciseName'] for t in topsets if t['ExcerciseId'] == exercise_id), 'Unknown')\n",
    "        })\n",
    "    return exercises\n",
    "\n",
    "get_all_exercises_from_topsets(topsets)\n"
   ]
  },
  {
   "cell_type": "markdown",
   "metadata": {},
   "source": [
    "### 3. Compose functions together to acheive final model"
   ]
  },
  {
   "cell_type": "code",
   "execution_count": 81,
   "metadata": {},
   "outputs": [],
   "source": [
    "def convert_to_view_model(topsets):\n",
    "    return {\n",
    "        'PersonId': next((t['PersonId'] for t in topsets), -1),\n",
    "        'PersonName': next((t['PersonName'] for t in topsets), -1),\n",
    "        'Exercises': get_all_exercises_from_topsets(topsets),\n",
    "        'Workouts': get_workouts(topsets)\n",
    "    }"
   ]
  },
  {
   "cell_type": "code",
   "execution_count": 82,
   "metadata": {},
   "outputs": [
    {
     "name": "stdout",
     "output_type": "stream",
     "text": [
      "{\n",
      "  \"PersonId\": 1,\n",
      "  \"PersonName\": \"Gabe\",\n",
      "  \"Exercises\": [\n",
      "    {\n",
      "      \"ExcerciseId\": 1,\n",
      "      \"ExerciseName\": \"Squat\"\n",
      "    },\n",
      "    {\n",
      "      \"ExcerciseId\": 2,\n",
      "      \"ExerciseName\": \"Bench\"\n",
      "    },\n",
      "    {\n",
      "      \"ExcerciseId\": 3,\n",
      "      \"ExerciseName\": \"Deadlift\"\n",
      "    },\n",
      "    {\n",
      "      \"ExcerciseId\": 4,\n",
      "      \"ExerciseName\": \"Hotep\"\n",
      "    }\n",
      "  ],\n",
      "  \"Workouts\": [\n",
      "    {\n",
      "      \"WorkoutId\": 1,\n",
      "      \"StartDate\": \"2022-06-29 00:00:00.000\",\n",
      "      \"TopSets\": [\n",
      "        {\n",
      "          \"TopSetId\": 1,\n",
      "          \"ExcerciseId\": 2,\n",
      "          \"ExerciseName\": \"Bench\",\n",
      "          \"Weight\": 40,\n",
      "          \"Repetitions\": 11\n",
      "        }\n",
      "      ]\n",
      "    },\n",
      "    {\n",
      "      \"WorkoutId\": 2,\n",
      "      \"StartDate\": \"2022-07-07 00:00:00.000\",\n",
      "      \"TopSets\": [\n",
      "        {\n",
      "          \"TopSetId\": 2,\n",
      "          \"ExcerciseId\": 1,\n",
      "          \"ExerciseName\": \"Squat\",\n",
      "          \"Weight\": 65,\n",
      "          \"Repetitions\": 5\n",
      "        },\n",
      "        {\n",
      "          \"TopSetId\": 3,\n",
      "          \"ExcerciseId\": 4,\n",
      "          \"ExerciseName\": \"Hotep\",\n",
      "          \"Weight\": 30,\n",
      "          \"Repetitions\": 6\n",
      "        }\n",
      "      ]\n",
      "    },\n",
      "    {\n",
      "      \"WorkoutId\": 3,\n",
      "      \"StartDate\": \"2022-07-12 00:00:00.000\",\n",
      "      \"TopSets\": [\n",
      "        {\n",
      "          \"TopSetId\": 4,\n",
      "          \"ExcerciseId\": 2,\n",
      "          \"ExerciseName\": \"Bench\",\n",
      "          \"Weight\": 60,\n",
      "          \"Repetitions\": 4\n",
      "        },\n",
      "        {\n",
      "          \"TopSetId\": 5,\n",
      "          \"ExcerciseId\": 3,\n",
      "          \"ExerciseName\": \"Deadlift\",\n",
      "          \"Weight\": 100,\n",
      "          \"Repetitions\": 9\n",
      "        }\n",
      "      ]\n",
      "    }\n",
      "  ]\n",
      "}\n"
     ]
    }
   ],
   "source": [
    "print(json.dumps(convert_to_view_model(topsets), indent=2))"
   ]
  }
 ],
 "metadata": {
  "kernelspec": {
   "display_name": "Python 3.9.6 64-bit",
   "language": "python",
   "name": "python3"
  },
  "language_info": {
   "codemirror_mode": {
    "name": "ipython",
    "version": 3
   },
   "file_extension": ".py",
   "mimetype": "text/x-python",
   "name": "python",
   "nbconvert_exporter": "python",
   "pygments_lexer": "ipython3",
   "version": "3.9.6"
  },
  "orig_nbformat": 4,
  "vscode": {
   "interpreter": {
    "hash": "63076e477759601ac1c90dd52b6ecb6aedfcfea91f89ed7c8d6b0b077f7912d7"
   }
  }
 },
 "nbformat": 4,
 "nbformat_minor": 2
}
